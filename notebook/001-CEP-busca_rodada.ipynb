{
 "cells": [
  {
   "cell_type": "markdown",
   "metadata": {},
   "source": [
    "# Bibliotecas"
   ]
  },
  {
   "cell_type": "code",
   "execution_count": 1,
   "metadata": {},
   "outputs": [],
   "source": [
    "import json\n",
    "import urllib\n",
    "import requests\n",
    "import pandas as pd\n",
    "import numpy as np\n",
    "pd.set_option('max_columns', None)\n",
    "pd.set_option('float_format', '{:f}'.format)"
   ]
  },
  {
   "cell_type": "markdown",
   "metadata": {},
   "source": [
    "# Ingestão de dados"
   ]
  },
  {
   "cell_type": "code",
   "execution_count": 2,
   "metadata": {},
   "outputs": [],
   "source": [
    "minha_lista    = pd.read_csv('../data/raw/minha_lista.csv',index_col=0,low_memory=False).reset_index(drop=True)\n",
    "ja_encontrados = pd.read_csv('../data/raw/cep_ibge.csv',low_memory=False).reset_index(drop=True)\n",
    "nao_encontrado = pd.read_csv('../data/raw/nao_encontrado.csv',index_col=0,low_memory=False,names=['cep']).reset_index(drop=True)"
   ]
  },
  {
   "cell_type": "markdown",
   "metadata": {},
   "source": [
    "# Ajuste de CEP\n",
    "As colunas CEP tem característica de `INT`. Vamos transformar em string e completar com zeros"
   ]
  },
  {
   "cell_type": "code",
   "execution_count": 3,
   "metadata": {},
   "outputs": [],
   "source": [
    "minha_lista['cep'] = minha_lista['cep'].map(int).apply(lambda x: '{0:0>8}'.format(x))\n",
    "ja_encontrados['cep'] = ja_encontrados['cep'].map(int).apply(lambda x: '{0:0>8}'.format(x))\n",
    "nao_encontrado['cep'] = nao_encontrado['cep'].map(int).apply(lambda x: '{0:0>8}'.format(x))"
   ]
  },
  {
   "cell_type": "markdown",
   "metadata": {},
   "source": [
    "# Removendo valores em comum"
   ]
  },
  {
   "cell_type": "markdown",
   "metadata": {},
   "source": [
    "## já encontrados\n",
    "Se na tabela `ja_encontrados` já conter o cep que buscamos, não há porque procurar pois já temos a informação."
   ]
  },
  {
   "cell_type": "code",
   "execution_count": 4,
   "metadata": {},
   "outputs": [],
   "source": [
    "minha_lista = minha_lista[~minha_lista['cep'].isin(ja_encontrados['cep'])]"
   ]
  },
  {
   "cell_type": "markdown",
   "metadata": {},
   "source": [
    "## não encontrados\n",
    "Se na tabela `nao_encontrado` já conter o cep que buscamos, não há porque procurar pois não como encontrar ela."
   ]
  },
  {
   "cell_type": "code",
   "execution_count": 5,
   "metadata": {},
   "outputs": [],
   "source": [
    "# APAGAR\n",
    "# nao_encontrado = nao_encontrado.head(1)"
   ]
  },
  {
   "cell_type": "code",
   "execution_count": 6,
   "metadata": {},
   "outputs": [],
   "source": [
    "minha_lista = minha_lista[~minha_lista['cep'].isin(nao_encontrado['cep'])]"
   ]
  },
  {
   "cell_type": "markdown",
   "metadata": {},
   "source": [
    "#  Ajustes para rodar"
   ]
  },
  {
   "cell_type": "code",
   "execution_count": 7,
   "metadata": {},
   "outputs": [],
   "source": [
    "# Vamos remover tudo que é NAN\n",
    "minha_lista = minha_lista.dropna()"
   ]
  },
  {
   "cell_type": "code",
   "execution_count": 8,
   "metadata": {},
   "outputs": [],
   "source": [
    "# Se nessa lista contiver caracteres especiais, vamos ajustá-los\n",
    "minha_lista['cep'] =  minha_lista['cep'].str.replace(\"\\.|\\-|\\,\",\"\")"
   ]
  },
  {
   "cell_type": "code",
   "execution_count": 9,
   "metadata": {},
   "outputs": [],
   "source": [
    "# Vamos tagear tudo aquilo que não for exclusivamente numérico\n",
    "minha_lista['flg_cep'] = minha_lista['cep'].astype(str).str.isnumeric()"
   ]
  },
  {
   "cell_type": "code",
   "execution_count": 10,
   "metadata": {},
   "outputs": [],
   "source": [
    "# Vamos manter os registros que são exclusivamente numéricos\n",
    "CEPs = minha_lista[minha_lista['flg_cep']==True].drop(['flg_cep'],1)"
   ]
  },
  {
   "cell_type": "code",
   "execution_count": 11,
   "metadata": {},
   "outputs": [],
   "source": [
    "# Se houver registros duplicados, vamos aqui removê-los\n",
    "CEPs = CEPs.drop_duplicates()"
   ]
  },
  {
   "cell_type": "code",
   "execution_count": 12,
   "metadata": {},
   "outputs": [],
   "source": [
    "# Vamos transformar esse resultado em lista\n",
    "lista_ceps=list(CEPs['cep'])"
   ]
  },
  {
   "cell_type": "markdown",
   "metadata": {},
   "source": [
    "# Reconhecendo CEP\n",
    "Vamos rodar duas apis. Vamos dar prioridade à awesomeapi que é mais completa e em caso negativo, vamos buscar na postmon."
   ]
  },
  {
   "cell_type": "code",
   "execution_count": 13,
   "metadata": {},
   "outputs": [],
   "source": [
    "lista_ceps=list(CEPs['cep'])"
   ]
  },
  {
   "cell_type": "code",
   "execution_count": 14,
   "metadata": {},
   "outputs": [
    {
     "data": {
      "text/plain": [
       "45"
      ]
     },
     "execution_count": 14,
     "metadata": {},
     "output_type": "execute_result"
    }
   ],
   "source": [
    "# Vamos criar um array pois dessa forma podemos salvar resultados intermediários.\n",
    "meu_cep = np.array_split(lista_ceps, int(len(lista_ceps)/round(len(lista_ceps)/50)))\n",
    "len(meu_cep)"
   ]
  },
  {
   "cell_type": "code",
   "execution_count": null,
   "metadata": {},
   "outputs": [],
   "source": [
    "# A função abaixo deve buscar na api um cep e retornar o código IBGE daquele valor\n",
    "for i, cepzin in enumerate(meu_cep):\n",
    "\n",
    "    # lista para salvar dados de ibge/cep\n",
    "    awesomeapi=[]\n",
    "    postmon=[]\n",
    "\n",
    "    # lista para armazenar ceps não encontrados\n",
    "    error = []\n",
    "    \n",
    "    # comment\n",
    "    for cep in (cepzin):\n",
    "        print(cep, end=\" - \")\n",
    "        try:\n",
    "            resp = urllib.request.urlopen('https://cep.awesomeapi.com.br/json/'+cep)\n",
    "            awesomeapi.append(json.loads(resp.read()))\n",
    "            print(\"1\")\n",
    "        except:\n",
    "            try:\n",
    "                url = ('https://api.postmon.com.br/v1/cep/'+cep)\n",
    "                postmon.append(requests.get(url, timeout=0.1).json())\n",
    "                print(\"2\")\n",
    "            except:\n",
    "                error.append(cep)\n",
    "                print(\"3\")\n",
    "                \n",
    "    pd.DataFrame(awesomeapi).to_csv('../data/processed/temp/partial_awesomeapi_'+str(i)+'.csv')\n",
    "    pd.DataFrame(postmon).to_csv('../data/processed/temp/partial_postmon_'+str(i)+'.csv')\n",
    "    pd.DataFrame(error).to_csv('../data/processed/temp/partial_error_'+str(i)+'.csv')"
   ]
  },
  {
   "cell_type": "markdown",
   "metadata": {},
   "source": [
    "# Leitura dos resultados"
   ]
  },
  {
   "cell_type": "code",
   "execution_count": null,
   "metadata": {},
   "outputs": [],
   "source": [
    "# junção de agregação dos resultados parciais\n",
    "from pathlib import Path\n",
    "def agregador(file=None, path='../data/processed/temp/'):\n",
    "    data_dir = Path(path)\n",
    "    df = pd.concat(\n",
    "        pd.read_csv(csv_file, index_col=0)\n",
    "        for csv_file in data_dir.glob(file+'*'))\n",
    "    return df"
   ]
  },
  {
   "cell_type": "code",
   "execution_count": null,
   "metadata": {},
   "outputs": [],
   "source": [
    "awesomeapi = agregador(file='partial_awesomeapi_')\n",
    "awesomeapi = awesomeapi.drop_duplicates()"
   ]
  },
  {
   "cell_type": "code",
   "execution_count": null,
   "metadata": {},
   "outputs": [],
   "source": [
    "postmon = agregador(file='partial_postmon_')\n",
    "postmon = postmon.drop_duplicates()"
   ]
  },
  {
   "cell_type": "code",
   "execution_count": null,
   "metadata": {},
   "outputs": [],
   "source": [
    "error = agregador(file='partial_error_')\n",
    "error = error.drop_duplicates()"
   ]
  },
  {
   "cell_type": "markdown",
   "metadata": {},
   "source": [
    "# Salvando backup"
   ]
  },
  {
   "cell_type": "code",
   "execution_count": null,
   "metadata": {},
   "outputs": [],
   "source": [
    "from shutil import copyfile\n",
    "from datetime import datetime\n",
    "dt_string = datetime.now().strftime(\"%d_%m_%Y_%H_%M_%S\")\n",
    "\n",
    "try:\n",
    "    copyfile('../data/raw/cep_ibge.csv', '../data/processed/cep_ibge_' + dt_string + '.csv')\n",
    "    copyfile('../data/raw/minha_lista.csv', '../data/processed/minha_lista' + dt_string + '.csv')\n",
    "    copyfile('../data/raw/nao_encontrado.csv', '../data/processed/nao_encontrado' + dt_string + '.csv')\n",
    "\n",
    "except:\n",
    "    print('erro')\n",
    "    pass"
   ]
  },
  {
   "cell_type": "markdown",
   "metadata": {},
   "source": [
    "# Salvando resultados"
   ]
  },
  {
   "cell_type": "code",
   "execution_count": null,
   "metadata": {},
   "outputs": [],
   "source": [
    "awesomeapi.to_csv('../data/processed/awesomeapi.csv')\n",
    "postmon.to_csv('../data/processed/postmon.csv')\n",
    "error.to_csv('../data/processed/nao_encontrado.csv')"
   ]
  },
  {
   "cell_type": "markdown",
   "metadata": {},
   "source": [
    "## postmon\n"
   ]
  },
  {
   "cell_type": "code",
   "execution_count": null,
   "metadata": {},
   "outputs": [],
   "source": [
    "postmon['estado_info'] = postmon['estado_info'].fillna(\"{}\")\n",
    "postmon['cidade_info'] = postmon['cidade_info'].fillna(\"{}\")"
   ]
  },
  {
   "cell_type": "code",
   "execution_count": null,
   "metadata": {},
   "outputs": [],
   "source": [
    "import ast\n",
    "postmon[\"cidade_info\"] =  postmon[\"cidade_info\"].map(lambda d : ast.literal_eval(d))"
   ]
  },
  {
   "cell_type": "code",
   "execution_count": null,
   "metadata": {},
   "outputs": [],
   "source": [
    "postmon = pd.concat([postmon.drop(['cidade_info'], axis=1), postmon['cidade_info'].apply(pd.Series)], axis=1)"
   ]
  },
  {
   "cell_type": "code",
   "execution_count": null,
   "metadata": {},
   "outputs": [],
   "source": [
    "try:\n",
    "    postmon = postmon[['bairro', 'cidade', 'cep', 'estado','codigo_ibge', 'logradouro']]\n",
    "except:\n",
    "    postmon['logradouro']=np.nan\n",
    "    postmon = postmon[['bairro', 'cidade', 'cep', 'estado','codigo_ibge', 'logradouro']]\n",
    "postmon"
   ]
  },
  {
   "cell_type": "code",
   "execution_count": null,
   "metadata": {},
   "outputs": [],
   "source": [
    "postmon = postmon.rename(columns={\n",
    "     'bairro':'district',\n",
    "     'cidade':'city',\n",
    "     'estado':'state',\n",
    "     'logradouro':'address',\n",
    "     'codigo_ibge':'city_ibge',\n",
    "})\n",
    "postmon"
   ]
  },
  {
   "cell_type": "markdown",
   "metadata": {},
   "source": [
    "## resultado final"
   ]
  },
  {
   "cell_type": "code",
   "execution_count": null,
   "metadata": {},
   "outputs": [],
   "source": [
    "ja_encontrados = pd.read_csv('../data/raw/cep_ibge.csv',index_col=0,low_memory=False)"
   ]
  },
  {
   "cell_type": "code",
   "execution_count": null,
   "metadata": {},
   "outputs": [],
   "source": [
    "resultado_final = pd.concat([ja_encontrados,awesomeapi],0)\n",
    "resultado_final.head()"
   ]
  },
  {
   "cell_type": "code",
   "execution_count": null,
   "metadata": {},
   "outputs": [],
   "source": [
    "resultado_final = pd.concat([resultado_final,postmon],0).reset_index(drop=True)\n",
    "resultado_final['cep'] = resultado_final['cep'].map(int).apply(lambda x: '{0:0>8}'.format(x))\n",
    "resultado_final.tail()"
   ]
  },
  {
   "cell_type": "markdown",
   "metadata": {},
   "source": [
    "# Salvar"
   ]
  },
  {
   "cell_type": "code",
   "execution_count": null,
   "metadata": {},
   "outputs": [],
   "source": [
    "resultado_final.to_csv('../data/raw/cep_ibge.csv')"
   ]
  },
  {
   "cell_type": "code",
   "execution_count": null,
   "metadata": {},
   "outputs": [],
   "source": [
    "error.to_csv('../data/raw/nao_encontrado.csv')"
   ]
  },
  {
   "cell_type": "code",
   "execution_count": null,
   "metadata": {},
   "outputs": [],
   "source": []
  }
 ],
 "metadata": {
  "kernelspec": {
   "display_name": "Python 3",
   "language": "python",
   "name": "python3"
  },
  "language_info": {
   "codemirror_mode": {
    "name": "ipython",
    "version": 3
   },
   "file_extension": ".py",
   "mimetype": "text/x-python",
   "name": "python",
   "nbconvert_exporter": "python",
   "pygments_lexer": "ipython3",
   "version": "3.6.9"
  }
 },
 "nbformat": 4,
 "nbformat_minor": 4
}
